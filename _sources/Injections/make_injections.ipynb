{
 "cells": [
  {
   "cell_type": "markdown",
   "metadata": {},
   "source": [
    "# Script to make the injections json file\n",
    "\n",
    "Some parameters are set, some are randomly generated\n",
    "\n",
    "The distance is set by calculating how close it would be to have a full-band SNR of 2000\n",
    "\n",
    "Note that the randomly generated values we use have a set number of significant figures when they are saved, as does the distance; this means that the SNR out may not be exactly 2000"
   ]
  },
  {
   "cell_type": "markdown",
   "metadata": {},
   "source": [
    "## Imports / common variable definitions"
   ]
  },
  {
   "cell_type": "code",
   "execution_count": 1,
   "metadata": {},
   "outputs": [
    {
     "name": "stderr",
     "output_type": "stream",
     "text": [
      "/home/gareth/miniconda3/envs/env_lisa_ew/lib/python3.10/site-packages/pycbc/types/array.py:36: UserWarning: Wswiglal-redir-stdio:\n",
      "\n",
      "SWIGLAL standard output/error redirection is enabled in IPython.\n",
      "This may lead to performance penalties. To disable locally, use:\n",
      "\n",
      "with lal.no_swig_redirect_standard_output_error():\n",
      "    ...\n",
      "\n",
      "To disable globally, use:\n",
      "\n",
      "lal.swig_redirect_standard_output_error(False)\n",
      "\n",
      "Note however that this will likely lead to error messages from\n",
      "LAL functions being either misdirected or lost when called from\n",
      "Jupyter notebooks.\n",
      "\n",
      "To suppress this warning, use:\n",
      "\n",
      "import warnings\n",
      "warnings.filterwarnings(\"ignore\", \"Wswiglal-redir-stdio\")\n",
      "import lal\n",
      "\n",
      "  import lal as _lal\n"
     ]
    },
    {
     "name": "stdout",
     "output_type": "stream",
     "text": [
      "No CuPy\n",
      "No CuPy or GPU PhenomHM module.\n",
      "No CuPy or GPU response available.\n",
      "No CuPy or GPU interpolation available.\n"
     ]
    }
   ],
   "source": [
    "import numpy\n",
    "import json\n",
    "import copy\n",
    "\n",
    "import pycbc\n",
    "import pycbc.psd\n",
    "import pycbc.filter\n",
    "import pycbc.waveform\n",
    "\n",
    "# Common things needed for the waveform generation (when calculating SNR)\n",
    "f_nyquist = 0.1\n",
    "t_length = 86400 * 30\n",
    "delta_f = 1. / t_length\n",
    "delta_t = 0.25\n",
    "\n",
    "channels = ['A','E','T']\n"
   ]
  },
  {
   "cell_type": "markdown",
   "metadata": {},
   "source": [
    "## Set up chosen injection parameters\n",
    "\n",
    "These injection parameters have been chosen to make certain scientific points"
   ]
  },
  {
   "cell_type": "code",
   "execution_count": 2,
   "metadata": {},
   "outputs": [],
   "source": [
    "injections = {}\n",
    "for i in range(5):\n",
    "    injections[i] = {}\n",
    "\n",
    "# Set injection 0 parameters:\n",
    "injections[0]['mass1'] = 1e6\n",
    "injections[0]['mass2'] = 1e6\n",
    "injections[0]['spin1z'] = 0\n",
    "injections[0]['spin2z'] = 0\n",
    "\n",
    "# Set injection 1 parameters:\n",
    "injections[1]['mass1'] = 2e6\n",
    "injections[1]['mass2'] = 5e5\n",
    "injections[1]['spin1z'] = 0\n",
    "injections[1]['spin2z'] = 0\n",
    "\n",
    "# Set injection 2 parameters:\n",
    "injections[2]['mass1'] = 1e6\n",
    "injections[2]['mass2'] = 7e5\n",
    "injections[2]['spin1z'] = 0.4\n",
    "injections[2]['spin2z'] = -0.3\n",
    "\n",
    "# Set injection 3 parameters:\n",
    "injections[3]['mass1'] = 2.5e6\n",
    "injections[3]['mass2'] = 2.5e6\n",
    "injections[3]['spin1z'] = 0.8\n",
    "injections[3]['spin2z'] = 0.9\n",
    "\n",
    "# Set injection 4 parameters:\n",
    "injections[4]['mass1'] = 1e7\n",
    "injections[4]['mass2'] = 1e7\n",
    "injections[4]['spin1z'] = 0\n",
    "injections[4]['spin2z'] = 0\n",
    "\n",
    "# Add random times to end of data to represent up to hour wait time\n",
    "injections[0]['additional_end_data'] = 1050\n",
    "injections[1]['additional_end_data'] = 3400\n",
    "injections[2]['additional_end_data'] = 100\n",
    "injections[3]['additional_end_data'] = 3100\n",
    "injections[4]['additional_end_data'] = 1700\n",
    "\n",
    "# Include the distance - this is designed to give fullband SNR of 2000,\n",
    "# but will be slightly different due to config errors\n",
    "injections[0]['distance'] = 27658.011507544677\n",
    "injections[1]['distance'] = 17396.850629145487\n",
    "injections[2]['distance'] = 12042.46921545863\n",
    "injections[3]['distance'] = 102915.54392849082\n",
    "injections[4]['distance'] = 11259.17078067498"
   ]
  },
  {
   "cell_type": "code",
   "execution_count": 3,
   "metadata": {},
   "outputs": [],
   "source": [
    "waveform_gen_common = {\n",
    "    'ifos': ['LISA_A','LISA_E','LISA_T'],\n",
    "    'approximant': 'BBHX_PhenomHM',\n",
    "    'delta_f': delta_f,\n",
    "    'f_lower': 1e-6,\n",
    "    't_obs_start': t_length,\n",
    "    't_offset': 0,\n",
    "    'f_final': 0.1,\n",
    "    'low_frequency_cutoff': 0.000001,\n",
    "    'tdi': '1.5',\n",
    "}"
   ]
  },
  {
   "cell_type": "code",
   "execution_count": 4,
   "metadata": {},
   "outputs": [],
   "source": [
    "psd_file_fmat = '../PSD_Files/model_{channel}_TDI1_optimistic.txt.gz'\n",
    "psds = {}\n",
    "for channel in channels:\n",
    "    if channel in ['A','E']:\n",
    "        channel_long = 'AE'\n",
    "    else:\n",
    "        channel_long = channel\n",
    "    psds[channel] = pycbc.psd.from_txt(\n",
    "        psd_file_fmat.format(channel=channel_long),\n",
    "        int(f_nyquist/delta_f),\n",
    "        delta_f,\n",
    "        delta_f,\n",
    "        is_asd_file=False\n",
    "    )"
   ]
  },
  {
   "cell_type": "code",
   "execution_count": 5,
   "metadata": {},
   "outputs": [],
   "source": [
    "def get_snr_at_merger(inj):\n",
    "    # Now we want to work out the SNR at merger - sigma is the SNR at 1Mpc\n",
    "    wf = pycbc.waveform.get_fd_det_waveform(**inj)\n",
    "    sigsq = 0\n",
    "    for channel in channels:\n",
    "        sigsq += pycbc.filter.sigma(\n",
    "            wf[f'LISA_{channel}'],\n",
    "            psds[channel],\n",
    "            low_frequency_cutoff=inj['f_lower'],\n",
    "            high_frequency_cutoff=inj['f_final'],\n",
    "        ) ** 2\n",
    "\n",
    "    return numpy.sqrt(sigsq)"
   ]
  },
  {
   "cell_type": "code",
   "execution_count": 6,
   "metadata": {},
   "outputs": [
    {
     "name": "stderr",
     "output_type": "stream",
     "text": [
      "/home/gareth/miniconda3/envs/env_lisa_ew/lib/python3.10/site-packages/BBHX_Phenom.py:265: RuntimeWarning: Input 'f_lower' is lower than the value calculated from 't_obs_start'.\n",
      "  warn(err_msg, RuntimeWarning)\n"
     ]
    },
    {
     "name": "stdout",
     "output_type": "stream",
     "text": [
      "Injection 0 full-signal SNR: 1975.470721\n"
     ]
    },
    {
     "name": "stderr",
     "output_type": "stream",
     "text": [
      "/home/gareth/miniconda3/envs/env_lisa_ew/lib/python3.10/site-packages/BBHX_Phenom.py:265: RuntimeWarning: Input 'f_lower' is lower than the value calculated from 't_obs_start'.\n",
      "  warn(err_msg, RuntimeWarning)\n"
     ]
    },
    {
     "name": "stdout",
     "output_type": "stream",
     "text": [
      "Injection 1 full-signal SNR: 2124.626544\n",
      "Injection 2 full-signal SNR: 2049.617596\n",
      "Injection 3 full-signal SNR: 1990.494381\n",
      "Injection 4 full-signal SNR: 2396.265255\n"
     ]
    }
   ],
   "source": [
    "for i in range(5):\n",
    "    # For each injection, now randomly assign the external parameters:\n",
    "\n",
    "    # Make this the same when repeated: set the seed\n",
    "    numpy.random.seed(i * 1865)\n",
    "\n",
    "    # longitude - uniform in 0, 2pi\n",
    "    injections[i]['eclipticlongitude'] = numpy.random.uniform(0, 2 * numpy.pi)\n",
    "    # latitude - uniform in sin latitude\n",
    "    lat = numpy.arcsin(2 * numpy.random.uniform(0, 1) - 1)\n",
    "    # round this to 2 significant figures:\n",
    "    injections[i]['eclipticlatitude'] = lat\n",
    "    # inclination - uniform in cos iota\n",
    "    iota = numpy.arccos(numpy.random.uniform(0, 1))\n",
    "    injections[i]['inclination'] = iota\n",
    "    # polarisation - uniform in 0-2pi\n",
    "    injections[i]['polarization'] = numpy.random.uniform(0, 2 * numpy.pi)\n",
    "    # phase - uniform in 0-2pi\n",
    "    injections[i]['coa_phase'] = numpy.random.uniform(0, 2 * numpy.pi)\n",
    "    # Time of coalescence - uniform in the range\n",
    "    # 1829952018 (2038-01-01T00:00:00) to 1987718418 (2043-01-01T00:00:00)\n",
    "    injections[i]['tc'] = numpy.random.uniform(1829952018, 1987718418)\n",
    "\n",
    "    # Now we want to work out the SNR at merger - sigma is the SNR at 1Mpc\n",
    "    inj = copy.deepcopy(injections[i])\n",
    "    # Add in the required definitions for the waveform generator:\n",
    "    inj.update(waveform_gen_common)\n",
    "    \n",
    "    # Check that this has worked, the nw sigma should be 2000:\n",
    "    sig = get_snr_at_merger(inj)\n",
    "    print(f\"Injection {i} full-signal SNR: {sig:.6f}\")\n",
    "    injections[i]['fullband_snr'] = sig"
   ]
  },
  {
   "cell_type": "code",
   "execution_count": 7,
   "metadata": {},
   "outputs": [],
   "source": [
    "with open('injections.json','w') as inj_json:\n",
    "    json.dump(injections, inj_json)"
   ]
  }
 ],
 "metadata": {
  "kernelspec": {
   "display_name": "env_lisa_ew",
   "language": "python",
   "name": "python3"
  },
  "language_info": {
   "codemirror_mode": {
    "name": "ipython",
    "version": 3
   },
   "file_extension": ".py",
   "mimetype": "text/x-python",
   "name": "python",
   "nbconvert_exporter": "python",
   "pygments_lexer": "ipython3",
   "version": "3.10.14"
  }
 },
 "nbformat": 4,
 "nbformat_minor": 2
}
